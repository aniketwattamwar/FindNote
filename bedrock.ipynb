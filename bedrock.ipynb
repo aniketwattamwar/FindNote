{
 "cells": [
  {
   "cell_type": "code",
   "execution_count": 1,
   "metadata": {},
   "outputs": [],
   "source": [
    "from langchain.prompts import PromptTemplate\n",
    "from langchain_community.llms import Bedrock\n",
    "from langchain.chains.summarize import load_summarize_chain\n",
    "from langchain_text_splitters import RecursiveCharacterTextSplitter\n",
    "from langchain_community.document_loaders import PyPDFLoader\n",
    "\n",
    "\n",
    "def get_llm():\n",
    "    \n",
    "    model_kwargs = { #AI21\n",
    "        \"maxTokens\": 8000, \n",
    "        \"temperature\": 0, \n",
    "        \"topP\": 0.5, \n",
    "        \"stopSequences\": [], \n",
    "        \"countPenalty\": {\"scale\": 0 }, \n",
    "        \"presencePenalty\": {\"scale\": 0 }, \n",
    "        \"frequencyPenalty\": {\"scale\": 0 } \n",
    "    }\n",
    "    \n",
    "    llm = Bedrock(\n",
    "        model_id=\"ai21.j2-ultra-v1\", #set the foundation model\n",
    "        model_kwargs=model_kwargs) #configure the inference parameters\n",
    "    \n",
    "    return llm\n",
    "\n",
    "pdf_path = \"Aniket_Wattamwar.pdf\"\n",
    "\n",
    "def get_docs():\n",
    "    \n",
    "    loader = PyPDFLoader(file_path=pdf_path)\n",
    "    documents = loader.load()\n",
    "    text_splitter = RecursiveCharacterTextSplitter(\n",
    "        separators=[\"\\n\\n\", \"\\n\", \".\", \" \"], chunk_size=4000, chunk_overlap=100 \n",
    "    )\n",
    "    docs = text_splitter.split_documents(documents=documents)\n",
    "    \n",
    "    return docs\n",
    "\n",
    "def get_summary(return_intermediate_steps=False):\n",
    "    \n",
    "    map_prompt_template = \"{text}\\n\\nWrite a few sentences summarizing the above:\"\n",
    "    map_prompt = PromptTemplate(template=map_prompt_template, input_variables=[\"text\"])\n",
    "    \n",
    "    combine_prompt_template = \"{text}\\n\\nWrite a detailed analysis of the above:\"\n",
    "    combine_prompt = PromptTemplate(template=combine_prompt_template, input_variables=[\"text\"])\n",
    "    \n",
    "    \n",
    "    llm = get_llm()\n",
    "    docs = get_docs()\n",
    "    \n",
    "    chain = load_summarize_chain(llm, chain_type=\"map_reduce\", map_prompt=map_prompt, combine_prompt=combine_prompt, return_intermediate_steps=return_intermediate_steps)\n",
    "    \n",
    "    if return_intermediate_steps:\n",
    "        return chain.invoke({\"input_documents\": docs}, return_only_outputs=True)\n",
    "    else:\n",
    "        return chain.invoke(docs, return_only_outputs=True)\n",
    "\n",
    "\n",
    "\n"
   ]
  },
  {
   "cell_type": "code",
   "execution_count": null,
   "metadata": {},
   "outputs": [],
   "source": []
  }
 ],
 "metadata": {
  "kernelspec": {
   "display_name": "Python 3",
   "language": "python",
   "name": "python3"
  },
  "language_info": {
   "codemirror_mode": {
    "name": "ipython",
    "version": 3
   },
   "file_extension": ".py",
   "mimetype": "text/x-python",
   "name": "python",
   "nbconvert_exporter": "python",
   "pygments_lexer": "ipython3",
   "version": "3.11.0"
  }
 },
 "nbformat": 4,
 "nbformat_minor": 2
}
